{
 "cells": [
  {
   "cell_type": "code",
   "execution_count": null,
   "metadata": {},
   "outputs": [
    {
     "name": "stderr",
     "output_type": "stream",
     "text": [
      "6157.74s - pydevd: Sending message related to process being replaced timed-out after 5 seconds\n"
     ]
    },
    {
     "name": "stdout",
     "output_type": "stream",
     "text": [
      "\n",
      "\u001b[1m[\u001b[0m\u001b[34;49mnotice\u001b[0m\u001b[1;39;49m]\u001b[0m\u001b[39;49m A new release of pip is available: \u001b[0m\u001b[31;49m24.0\u001b[0m\u001b[39;49m -> \u001b[0m\u001b[32;49m24.2\u001b[0m\n",
      "\u001b[1m[\u001b[0m\u001b[34;49mnotice\u001b[0m\u001b[1;39;49m]\u001b[0m\u001b[39;49m To update, run: \u001b[0m\u001b[32;49mpip install --upgrade pip\u001b[0m\n",
      "Note: you may need to restart the kernel to use updated packages.\n"
     ]
    }
   ],
   "source": [
    "%pip install --upgrade --quiet \"unstructured[all-docs]\""
   ]
  },
  {
   "cell_type": "code",
   "execution_count": null,
   "metadata": {},
   "outputs": [
    {
     "name": "stderr",
     "output_type": "stream",
     "text": [
      "6175.34s - pydevd: Sending message related to process being replaced timed-out after 5 seconds\n"
     ]
    },
    {
     "name": "stdout",
     "output_type": "stream",
     "text": [
      "Collecting tesseract-ocr\n",
      "  Using cached tesseract-ocr-0.0.1.tar.gz (33 kB)\n",
      "  Installing build dependencies ... \u001b[?25ldone\n",
      "\u001b[?25h  Getting requirements to build wheel ... \u001b[?25ldone\n",
      "\u001b[?25h  Preparing metadata (pyproject.toml) ... \u001b[?25ldone\n",
      "\u001b[?25hCollecting cython (from tesseract-ocr)\n",
      "  Using cached Cython-3.0.11-cp312-cp312-macosx_10_9_x86_64.whl.metadata (3.2 kB)\n",
      "Using cached Cython-3.0.11-cp312-cp312-macosx_10_9_x86_64.whl (3.1 MB)\n",
      "Building wheels for collected packages: tesseract-ocr\n",
      "  Building wheel for tesseract-ocr (pyproject.toml) ... \u001b[?25lerror\n",
      "  \u001b[1;31merror\u001b[0m: \u001b[1msubprocess-exited-with-error\u001b[0m\n",
      "  \n",
      "  \u001b[31m×\u001b[0m \u001b[32mBuilding wheel for tesseract-ocr \u001b[0m\u001b[1;32m(\u001b[0m\u001b[32mpyproject.toml\u001b[0m\u001b[1;32m)\u001b[0m did not run successfully.\n",
      "  \u001b[31m│\u001b[0m exit code: \u001b[1;36m1\u001b[0m\n",
      "  \u001b[31m╰─>\u001b[0m \u001b[31m[196 lines of output]\u001b[0m\n",
      "  \u001b[31m   \u001b[0m /private/var/folders/y5/3b88q7jx0ygbly546r1bj8tm0000gn/T/pip-build-env-q3u4yp_3/overlay/lib/python3.12/site-packages/setuptools/_distutils/dist.py:268: UserWarning: Unknown distribution option: 'tests_require'\n",
      "  \u001b[31m   \u001b[0m   warnings.warn(msg)\n",
      "  \u001b[31m   \u001b[0m /private/var/folders/y5/3b88q7jx0ygbly546r1bj8tm0000gn/T/pip-build-env-q3u4yp_3/overlay/lib/python3.12/site-packages/setuptools/dist.py:450: SetuptoolsDeprecationWarning: Invalid dash-separated options\n",
      "  \u001b[31m   \u001b[0m !!\n",
      "  \u001b[31m   \u001b[0m \n",
      "  \u001b[31m   \u001b[0m         ********************************************************************************\n",
      "  \u001b[31m   \u001b[0m         Usage of dash-separated 'description-file' will not be supported in future\n",
      "  \u001b[31m   \u001b[0m         versions. Please use the underscore name 'description_file' instead.\n",
      "  \u001b[31m   \u001b[0m \n",
      "  \u001b[31m   \u001b[0m         By 2024-Sep-26, you need to update your project and remove deprecated calls\n",
      "  \u001b[31m   \u001b[0m         or your builds will no longer be supported.\n",
      "  \u001b[31m   \u001b[0m \n",
      "  \u001b[31m   \u001b[0m         See https://setuptools.pypa.io/en/latest/userguide/declarative_config.html for details.\n",
      "  \u001b[31m   \u001b[0m         ********************************************************************************\n",
      "  \u001b[31m   \u001b[0m \n",
      "  \u001b[31m   \u001b[0m !!\n",
      "  \u001b[31m   \u001b[0m   opt = self.warn_dash_deprecation(opt, section)\n",
      "  \u001b[31m   \u001b[0m running bdist_wheel\n",
      "  \u001b[31m   \u001b[0m running build\n",
      "  \u001b[31m   \u001b[0m running build_py\n",
      "  \u001b[31m   \u001b[0m file tesseract_ocr.py (for module tesseract_ocr) not found\n",
      "  \u001b[31m   \u001b[0m file tesseract_ocr.py (for module tesseract_ocr) not found\n",
      "  \u001b[31m   \u001b[0m running build_ext\n",
      "  \u001b[31m   \u001b[0m building 'tesseract_ocr' extension\n",
      "  \u001b[31m   \u001b[0m creating build\n",
      "  \u001b[31m   \u001b[0m creating build/temp.macosx-10.9-universal2-cpython-312\n",
      "  \u001b[31m   \u001b[0m clang++ -fno-strict-overflow -Wsign-compare -Wunreachable-code -fno-common -dynamic -DNDEBUG -g -O3 -Wall -arch arm64 -arch x86_64 -g -I/Users/abirsleem/Documents/Abir/NewJOB/RadicalAIInternship/kai-ai-backend/env/include -I/Library/Frameworks/Python.framework/Versions/3.12/include/python3.12 -c tesseract_ocr.cpp -o build/temp.macosx-10.9-universal2-cpython-312/tesseract_ocr.o\n",
      "  \u001b[31m   \u001b[0m In file included from tesseract_ocr.cpp:264:\n",
      "  \u001b[31m   \u001b[0m In file included from /usr/local/include/leptonica/allheaders.h:35:\n",
      "  \u001b[31m   \u001b[0m In file included from /usr/local/include/leptonica/alltypes.h:37:\n",
      "  \u001b[31m   \u001b[0m /usr/local/include/leptonica/environ.h:206:10: warning: 'HAVE_FSTATAT' macro redefined [-Wmacro-redefined]\n",
      "  \u001b[31m   \u001b[0m #define  HAVE_FSTATAT     0\n",
      "  \u001b[31m   \u001b[0m          ^\n",
      "  \u001b[31m   \u001b[0m /Library/Frameworks/Python.framework/Versions/3.12/include/python3.12/pyconfig.h:409:9: note: previous definition is here\n",
      "  \u001b[31m   \u001b[0m #define HAVE_FSTATAT 1\n",
      "  \u001b[31m   \u001b[0m         ^\n",
      "  \u001b[31m   \u001b[0m In file included from tesseract_ocr.cpp:264:\n",
      "  \u001b[31m   \u001b[0m In file included from /usr/local/include/leptonica/allheaders.h:35:\n",
      "  \u001b[31m   \u001b[0m In file included from /usr/local/include/leptonica/alltypes.h:37:\n",
      "  \u001b[31m   \u001b[0m /usr/local/include/leptonica/environ.h:207:10: warning: 'HAVE_DIRFD' macro redefined [-Wmacro-redefined]\n",
      "  \u001b[31m   \u001b[0m #define  HAVE_DIRFD       0\n",
      "  \u001b[31m   \u001b[0m          ^\n",
      "  \u001b[31m   \u001b[0m /Library/Frameworks/Python.framework/Versions/3.12/include/python3.12/pyconfig.h:286:9: note: previous definition is here\n",
      "  \u001b[31m   \u001b[0m #define HAVE_DIRFD 1\n",
      "  \u001b[31m   \u001b[0m         ^\n",
      "  \u001b[31m   \u001b[0m In file included from tesseract_ocr.cpp:265:\n",
      "  \u001b[31m   \u001b[0m In file included from /usr/local/include/tesseract/baseapi.h:25:\n",
      "  \u001b[31m   \u001b[0m In file included from /usr/local/include/tesseract/pageiterator.h:22:\n",
      "  \u001b[31m   \u001b[0m /usr/local/include/tesseract/publictypes.h:31:1: error: unknown type name 'constexpr'\n",
      "  \u001b[31m   \u001b[0m constexpr int kPointsPerInch = 72;\n",
      "  \u001b[31m   \u001b[0m ^\n",
      "  \u001b[31m   \u001b[0m /usr/local/include/tesseract/publictypes.h:36:1: error: unknown type name 'constexpr'\n",
      "  \u001b[31m   \u001b[0m constexpr int kMinCredibleResolution = 70;\n",
      "  \u001b[31m   \u001b[0m ^\n",
      "  \u001b[31m   \u001b[0m /usr/local/include/tesseract/publictypes.h:38:1: error: unknown type name 'constexpr'\n",
      "  \u001b[31m   \u001b[0m constexpr int kMaxCredibleResolution = 2400;\n",
      "  \u001b[31m   \u001b[0m ^\n",
      "  \u001b[31m   \u001b[0m /usr/local/include/tesseract/publictypes.h:43:1: error: unknown type name 'constexpr'\n",
      "  \u001b[31m   \u001b[0m constexpr int kResolutionEstimationFactor = 10;\n",
      "  \u001b[31m   \u001b[0m ^\n",
      "  \u001b[31m   \u001b[0m In file included from tesseract_ocr.cpp:265:\n",
      "  \u001b[31m   \u001b[0m In file included from /usr/local/include/tesseract/baseapi.h:27:\n",
      "  \u001b[31m   \u001b[0m In file included from /usr/local/include/tesseract/resultiterator.h:23:\n",
      "  \u001b[31m   \u001b[0m In file included from /usr/local/include/tesseract/ltrresultiterator.h:24:\n",
      "  \u001b[31m   \u001b[0m /usr/local/include/tesseract/unichar.h:34:20: warning: alias declarations are a C++11 extension [-Wc++11-extensions]\n",
      "  \u001b[31m   \u001b[0m using UNICHAR_ID = int;\n",
      "  \u001b[31m   \u001b[0m                    ^\n",
      "  \u001b[31m   \u001b[0m /usr/local/include/tesseract/unichar.h:49:16: warning: alias declarations are a C++11 extension [-Wc++11-extensions]\n",
      "  \u001b[31m   \u001b[0m using char32 = signed int;\n",
      "  \u001b[31m   \u001b[0m                ^\n",
      "  \u001b[31m   \u001b[0m /usr/local/include/tesseract/unichar.h:106:16: warning: alias declarations are a C++11 extension [-Wc++11-extensions]\n",
      "  \u001b[31m   \u001b[0m     using CI = const_iterator;\n",
      "  \u001b[31m   \u001b[0m                ^\n",
      "  \u001b[31m   \u001b[0m /usr/local/include/tesseract/unichar.h:169:8: error: function definition does not declare parameters\n",
      "  \u001b[31m   \u001b[0m   char chars[UNICHAR_LEN]{};\n",
      "  \u001b[31m   \u001b[0m        ^\n",
      "  \u001b[31m   \u001b[0m /usr/local/include/tesseract/unichar.h:58:12: error: use of undeclared identifier 'chars'\n",
      "  \u001b[31m   \u001b[0m     memset(chars, 0, UNICHAR_LEN);\n",
      "  \u001b[31m   \u001b[0m            ^\n",
      "  \u001b[31m   \u001b[0m /usr/local/include/tesseract/unichar.h:76:15: error: use of undeclared identifier 'chars'\n",
      "  \u001b[31m   \u001b[0m     int len = chars[UNICHAR_LEN - 1];\n",
      "  \u001b[31m   \u001b[0m               ^\n",
      "  \u001b[31m   \u001b[0m /usr/local/include/tesseract/unichar.h:82:12: error: use of undeclared identifier 'chars'\n",
      "  \u001b[31m   \u001b[0m     return chars;\n",
      "  \u001b[31m   \u001b[0m            ^\n",
      "  \u001b[31m   \u001b[0m In file included from tesseract_ocr.cpp:265:\n",
      "  \u001b[31m   \u001b[0m In file included from /usr/local/include/tesseract/baseapi.h:27:\n",
      "  \u001b[31m   \u001b[0m In file included from /usr/local/include/tesseract/resultiterator.h:23:\n",
      "  \u001b[31m   \u001b[0m /usr/local/include/tesseract/ltrresultiterator.h:65:24: warning: 'override' keyword is a C++11 extension [-Wc++11-extensions]\n",
      "  \u001b[31m   \u001b[0m   ~LTRResultIterator() override;\n",
      "  \u001b[31m   \u001b[0m                        ^\n",
      "  \u001b[31m   \u001b[0m /usr/local/include/tesseract/ltrresultiterator.h:212:56: error: a space is required between consecutive right angle brackets (use '> >')\n",
      "  \u001b[31m   \u001b[0m   std::vector<std::vector<std::pair<const char *, float>>> *Timesteps() const;\n",
      "  \u001b[31m   \u001b[0m                                                        ^~\n",
      "  \u001b[31m   \u001b[0m                                                        > >\n",
      "  \u001b[31m   \u001b[0m /usr/local/include/tesseract/ltrresultiterator.h:221:44: error: a space is required between consecutive right angle brackets (use '> >')\n",
      "  \u001b[31m   \u001b[0m   std::vector<std::pair<const char *, float>> *LSTM_choices_ = nullptr;\n",
      "  \u001b[31m   \u001b[0m                                            ^~\n",
      "  \u001b[31m   \u001b[0m                                            > >\n",
      "  \u001b[31m   \u001b[0m /usr/local/include/tesseract/ltrresultiterator.h:221:62: warning: default member initializer for non-static data member is a C++11 extension [-Wc++11-extensions]\n",
      "  \u001b[31m   \u001b[0m   std::vector<std::pair<const char *, float>> *LSTM_choices_ = nullptr;\n",
      "  \u001b[31m   \u001b[0m                                                              ^\n",
      "  \u001b[31m   \u001b[0m /usr/local/include/tesseract/ltrresultiterator.h:222:44: error: a space is required between consecutive right angle brackets (use '> >')\n",
      "  \u001b[31m   \u001b[0m   std::vector<std::pair<const char *, float>>::iterator LSTM_choice_it_;\n",
      "  \u001b[31m   \u001b[0m                                            ^~\n",
      "  \u001b[31m   \u001b[0m                                            > >\n",
      "  \u001b[31m   \u001b[0m In file included from tesseract_ocr.cpp:265:\n",
      "  \u001b[31m   \u001b[0m In file included from /usr/local/include/tesseract/baseapi.h:27:\n",
      "  \u001b[31m   \u001b[0m /usr/local/include/tesseract/resultiterator.h:40:21: warning: 'override' keyword is a C++11 extension [-Wc++11-extensions]\n",
      "  \u001b[31m   \u001b[0m   ~ResultIterator() override = default;\n",
      "  \u001b[31m   \u001b[0m                     ^\n",
      "  \u001b[31m   \u001b[0m /usr/local/include/tesseract/resultiterator.h:40:32: warning: defaulted function definitions are a C++11 extension [-Wc++11-extensions]\n",
      "  \u001b[31m   \u001b[0m   ~ResultIterator() override = default;\n",
      "  \u001b[31m   \u001b[0m                                ^\n",
      "  \u001b[31m   \u001b[0m /usr/local/include/tesseract/resultiterator.h:47:16: warning: 'override' keyword is a C++11 extension [-Wc++11-extensions]\n",
      "  \u001b[31m   \u001b[0m   void Begin() override;\n",
      "  \u001b[31m   \u001b[0m                ^\n",
      "  \u001b[31m   \u001b[0m /usr/local/include/tesseract/resultiterator.h:61:38: warning: 'override' keyword is a C++11 extension [-Wc++11-extensions]\n",
      "  \u001b[31m   \u001b[0m   bool Next(PageIteratorLevel level) override;\n",
      "  \u001b[31m   \u001b[0m                                      ^\n",
      "  \u001b[31m   \u001b[0m /usr/local/include/tesseract/resultiterator.h:69:55: warning: 'override' keyword is a C++11 extension [-Wc++11-extensions]\n",
      "  \u001b[31m   \u001b[0m   bool IsAtBeginningOf(PageIteratorLevel level) const override;\n",
      "  \u001b[31m   \u001b[0m                                                       ^\n",
      "  \u001b[31m   \u001b[0m /usr/local/include/tesseract/resultiterator.h:77:58: warning: 'override' keyword is a C++11 extension [-Wc++11-extensions]\n",
      "  \u001b[31m   \u001b[0m                         PageIteratorLevel element) const override;\n",
      "  \u001b[31m   \u001b[0m                                                          ^\n",
      "  \u001b[31m   \u001b[0m /usr/local/include/tesseract/resultiterator.h:94:76: error: a space is required between consecutive right angle brackets (use '> >')\n",
      "  \u001b[31m   \u001b[0m   virtual std::vector<std::vector<std::vector<std::pair<const char *, float>>>>\n",
      "  \u001b[31m   \u001b[0m                                                                            ^~\n",
      "  \u001b[31m   \u001b[0m                                                                            > >\n",
      "  \u001b[31m   \u001b[0m /usr/local/include/tesseract/resultiterator.h:94:78: error: a space is required between consecutive right angle brackets (use '> >')\n",
      "  \u001b[31m   \u001b[0m   virtual std::vector<std::vector<std::vector<std::pair<const char *, float>>>>\n",
      "  \u001b[31m   \u001b[0m                                                                              ^~\n",
      "  \u001b[31m   \u001b[0m                                                                              > >\n",
      "  \u001b[31m   \u001b[0m /usr/local/include/tesseract/resultiterator.h:96:64: error: a space is required between consecutive right angle brackets (use '> >')\n",
      "  \u001b[31m   \u001b[0m   virtual std::vector<std::vector<std::pair<const char *, float>>>\n",
      "  \u001b[31m   \u001b[0m                                                                ^~\n",
      "  \u001b[31m   \u001b[0m                                                                > >\n",
      "  \u001b[31m   \u001b[0m In file included from tesseract_ocr.cpp:265:\n",
      "  \u001b[31m   \u001b[0m /usr/local/include/tesseract/baseapi.h:61:20: warning: alias declarations are a C++11 extension [-Wc++11-extensions]\n",
      "  \u001b[31m   \u001b[0m using FileReader = bool (*)(const char *filename, std::vector<char> *data);\n",
      "  \u001b[31m   \u001b[0m                    ^\n",
      "  \u001b[31m   \u001b[0m /usr/local/include/tesseract/baseapi.h:63:18: warning: alias declarations are a C++11 extension [-Wc++11-extensions]\n",
      "  \u001b[31m   \u001b[0m using DictFunc = int (Dict::*)(void *, const UNICHARSET &, UNICHAR_ID,\n",
      "  \u001b[31m   \u001b[0m                  ^\n",
      "  \u001b[31m   \u001b[0m /usr/local/include/tesseract/baseapi.h:65:34: warning: alias declarations are a C++11 extension [-Wc++11-extensions]\n",
      "  \u001b[31m   \u001b[0m using ProbabilityInContextFunc = double (Dict::*)(const char *, const char *,\n",
      "  \u001b[31m   \u001b[0m                                  ^\n",
      "  \u001b[31m   \u001b[0m /usr/local/include/tesseract/baseapi.h:81:38: warning: deleted function definitions are a C++11 extension [-Wc++11-extensions]\n",
      "  \u001b[31m   \u001b[0m   TessBaseAPI(TessBaseAPI const &) = delete;\n",
      "  \u001b[31m   \u001b[0m                                      ^\n",
      "  \u001b[31m   \u001b[0m /usr/local/include/tesseract/baseapi.h:82:49: warning: deleted function definitions are a C++11 extension [-Wc++11-extensions]\n",
      "  \u001b[31m   \u001b[0m   TessBaseAPI &operator=(TessBaseAPI const &) = delete;\n",
      "  \u001b[31m   \u001b[0m                                                 ^\n",
      "  \u001b[31m   \u001b[0m tesseract_ocr.cpp:683:23: error: expression is not assignable\n",
      "  \u001b[31m   \u001b[0m         Py_SIZE(list) = len+1;\n",
      "  \u001b[31m   \u001b[0m         ~~~~~~~~~~~~~ ^\n",
      "  \u001b[31m   \u001b[0m tesseract_ocr.cpp:1369:15: error: overload resolution selected deleted operator '='\n",
      "  \u001b[31m   \u001b[0m     __pyx_t_1 = tesseract::TessBaseAPI();\n",
      "  \u001b[31m   \u001b[0m     ~~~~~~~~~ ^ ~~~~~~~~~~~~~~~~~~~~~~~~\n",
      "  \u001b[31m   \u001b[0m /usr/local/include/tesseract/baseapi.h:82:16: note: candidate function has been explicitly deleted\n",
      "  \u001b[31m   \u001b[0m   TessBaseAPI &operator=(TessBaseAPI const &) = delete;\n",
      "  \u001b[31m   \u001b[0m                ^\n",
      "  \u001b[31m   \u001b[0m tesseract_ocr.cpp:1374:22: error: overload resolution selected deleted operator '='\n",
      "  \u001b[31m   \u001b[0m   __pyx_v_self->_api = __pyx_t_1;\n",
      "  \u001b[31m   \u001b[0m   ~~~~~~~~~~~~~~~~~~ ^ ~~~~~~~~~\n",
      "  \u001b[31m   \u001b[0m /usr/local/include/tesseract/baseapi.h:82:16: note: candidate function has been explicitly deleted\n",
      "  \u001b[31m   \u001b[0m   TessBaseAPI &operator=(TessBaseAPI const &) = delete;\n",
      "  \u001b[31m   \u001b[0m                ^\n",
      "  \u001b[31m   \u001b[0m tesseract_ocr.cpp:1566:19: warning: 'Py_OptimizeFlag' is deprecated [-Wdeprecated-declarations]\n",
      "  \u001b[31m   \u001b[0m     if (unlikely(!Py_OptimizeFlag)) {\n",
      "  \u001b[31m   \u001b[0m                   ^\n",
      "  \u001b[31m   \u001b[0m /Library/Frameworks/Python.framework/Versions/3.12/include/python3.12/cpython/pydebug.h:13:1: note: 'Py_OptimizeFlag' has been explicitly marked deprecated here\n",
      "  \u001b[31m   \u001b[0m Py_DEPRECATED(3.12) PyAPI_DATA(int) Py_OptimizeFlag;\n",
      "  \u001b[31m   \u001b[0m ^\n",
      "  \u001b[31m   \u001b[0m /Library/Frameworks/Python.framework/Versions/3.12/include/python3.12/pyport.h:317:54: note: expanded from macro 'Py_DEPRECATED'\n",
      "  \u001b[31m   \u001b[0m #define Py_DEPRECATED(VERSION_UNUSED) __attribute__((__deprecated__))\n",
      "  \u001b[31m   \u001b[0m                                                      ^\n",
      "  \u001b[31m   \u001b[0m tesseract_ocr.cpp:1639:19: warning: 'Py_OptimizeFlag' is deprecated [-Wdeprecated-declarations]\n",
      "  \u001b[31m   \u001b[0m     if (unlikely(!Py_OptimizeFlag)) {\n",
      "  \u001b[31m   \u001b[0m                   ^\n",
      "  \u001b[31m   \u001b[0m /Library/Frameworks/Python.framework/Versions/3.12/include/python3.12/cpython/pydebug.h:13:1: note: 'Py_OptimizeFlag' has been explicitly marked deprecated here\n",
      "  \u001b[31m   \u001b[0m Py_DEPRECATED(3.12) PyAPI_DATA(int) Py_OptimizeFlag;\n",
      "  \u001b[31m   \u001b[0m ^\n",
      "  \u001b[31m   \u001b[0m /Library/Frameworks/Python.framework/Versions/3.12/include/python3.12/pyport.h:317:54: note: expanded from macro 'Py_DEPRECATED'\n",
      "  \u001b[31m   \u001b[0m #define Py_DEPRECATED(VERSION_UNUSED) __attribute__((__deprecated__))\n",
      "  \u001b[31m   \u001b[0m                                                      ^\n",
      "  \u001b[31m   \u001b[0m tesseract_ocr.cpp:3395:40: error: no member named 'tp_print' in '_typeobject'\n",
      "  \u001b[31m   \u001b[0m   __pyx_type_13tesseract_ocr_Tesseract.tp_print = 0;\n",
      "  \u001b[31m   \u001b[0m   ~~~~~~~~~~~~~~~~~~~~~~~~~~~~~~~~~~~~ ^\n",
      "  \u001b[31m   \u001b[0m tesseract_ocr.cpp:3566:16: error: use of undeclared identifier 'PyUnicode_FromUnicode'\n",
      "  \u001b[31m   \u001b[0m         return PyUnicode_FromUnicode(NULL, 0);\n",
      "  \u001b[31m   \u001b[0m                ^\n",
      "  \u001b[31m   \u001b[0m fatal error: too many errors emitted, stopping now [-ferror-limit=]\n",
      "  \u001b[31m   \u001b[0m 20 warnings and 20 errors generated.\n",
      "  \u001b[31m   \u001b[0m error: command '/usr/bin/clang++' failed with exit code 1\n",
      "  \u001b[31m   \u001b[0m \u001b[31m[end of output]\u001b[0m\n",
      "  \n",
      "  \u001b[1;35mnote\u001b[0m: This error originates from a subprocess, and is likely not a problem with pip.\n",
      "\u001b[?25h\u001b[31m  ERROR: Failed building wheel for tesseract-ocr\u001b[0m\u001b[31m\n",
      "\u001b[0mFailed to build tesseract-ocr\n",
      "\u001b[31mERROR: Could not build wheels for tesseract-ocr, which is required to install pyproject.toml-based projects\u001b[0m\u001b[31m\n",
      "\u001b[0m\n",
      "\u001b[1m[\u001b[0m\u001b[34;49mnotice\u001b[0m\u001b[1;39;49m]\u001b[0m\u001b[39;49m A new release of pip is available: \u001b[0m\u001b[31;49m24.0\u001b[0m\u001b[39;49m -> \u001b[0m\u001b[32;49m24.2\u001b[0m\n",
      "\u001b[1m[\u001b[0m\u001b[34;49mnotice\u001b[0m\u001b[1;39;49m]\u001b[0m\u001b[39;49m To update, run: \u001b[0m\u001b[32;49mpip install --upgrade pip\u001b[0m\n",
      "Note: you may need to restart the kernel to use updated packages.\n"
     ]
    }
   ],
   "source": [
    "%pip install tesseract-ocr"
   ]
  },
  {
   "cell_type": "code",
   "execution_count": 35,
   "metadata": {},
   "outputs": [
    {
     "name": "stderr",
     "output_type": "stream",
     "text": [
      "6190.67s - pydevd: Sending message related to process being replaced timed-out after 5 seconds\n"
     ]
    },
    {
     "name": "stdout",
     "output_type": "stream",
     "text": [
      "Requirement already satisfied: pytesseract in /Users/abirsleem/Documents/Abir/NewJOB/RadicalAIInternship/kai-ai-backend/env/lib/python3.12/site-packages (0.3.13)\n",
      "Requirement already satisfied: packaging>=21.3 in /Users/abirsleem/Documents/Abir/NewJOB/RadicalAIInternship/kai-ai-backend/env/lib/python3.12/site-packages (from pytesseract) (24.1)\n",
      "Requirement already satisfied: Pillow>=8.0.0 in /Users/abirsleem/Documents/Abir/NewJOB/RadicalAIInternship/kai-ai-backend/env/lib/python3.12/site-packages (from pytesseract) (10.4.0)\n",
      "\n",
      "\u001b[1m[\u001b[0m\u001b[34;49mnotice\u001b[0m\u001b[1;39;49m]\u001b[0m\u001b[39;49m A new release of pip is available: \u001b[0m\u001b[31;49m24.0\u001b[0m\u001b[39;49m -> \u001b[0m\u001b[32;49m24.2\u001b[0m\n",
      "\u001b[1m[\u001b[0m\u001b[34;49mnotice\u001b[0m\u001b[1;39;49m]\u001b[0m\u001b[39;49m To update, run: \u001b[0m\u001b[32;49mpip install --upgrade pip\u001b[0m\n",
      "Note: you may need to restart the kernel to use updated packages.\n"
     ]
    }
   ],
   "source": [
    "%pip install pytesseract"
   ]
  },
  {
   "cell_type": "code",
   "execution_count": 36,
   "metadata": {},
   "outputs": [],
   "source": [
    "from langchain_community.document_loaders.image import UnstructuredImageLoader"
   ]
  },
  {
   "cell_type": "code",
   "execution_count": 37,
   "metadata": {},
   "outputs": [
    {
     "ename": "NameError",
     "evalue": "name 'FileHandler' is not defined",
     "output_type": "error",
     "traceback": [
      "\u001b[0;31m---------------------------------------------------------------------------\u001b[0m",
      "\u001b[0;31mNameError\u001b[0m                                 Traceback (most recent call last)",
      "Cell \u001b[0;32mIn[37], line 5\u001b[0m\n\u001b[1;32m      2\u001b[0m image_url \u001b[38;5;241m=\u001b[39m \u001b[38;5;124m\"\u001b[39m\u001b[38;5;124mhttps://media.geeksforgeeks.org/wp-content/uploads/20190530190230/General-working-of-OCR-3.jpg\u001b[39m\u001b[38;5;124m\"\u001b[39m\n\u001b[1;32m      4\u001b[0m \u001b[38;5;66;03m# Create a FileHandler instance for images\u001b[39;00m\n\u001b[0;32m----> 5\u001b[0m image_handler \u001b[38;5;241m=\u001b[39m \u001b[43mFileHandler\u001b[49m(UnstructuredImageLoader, \u001b[38;5;124m'\u001b[39m\u001b[38;5;124mjpg\u001b[39m\u001b[38;5;124m'\u001b[39m)\n\u001b[1;32m      7\u001b[0m \u001b[38;5;28;01mtry\u001b[39;00m:\n\u001b[1;32m      8\u001b[0m     \u001b[38;5;66;03m# Use FileHandler to load the image\u001b[39;00m\n\u001b[1;32m      9\u001b[0m     data \u001b[38;5;241m=\u001b[39m image_handler\u001b[38;5;241m.\u001b[39mload(image_url)\n",
      "\u001b[0;31mNameError\u001b[0m: name 'FileHandler' is not defined"
     ]
    }
   ],
   "source": [
    "# Image URL\n",
    "image_url = \"https://media.geeksforgeeks.org/wp-content/uploads/20190530190230/General-working-of-OCR-3.jpg\"\n",
    "\n",
    "# Create a FileHandler instance for images\n",
    "image_handler = FileHandler(UnstructuredImageLoader, 'jpg')\n",
    "\n",
    "try:\n",
    "    # Use FileHandler to load the image\n",
    "    data = image_handler.load(image_url)\n",
    "    print(\"Image data loaded successfully!\")\n",
    "    print(data)\n",
    "\n",
    "except requests.exceptions.RequestException as e:\n",
    "    print(f\"Error downloading the image: {e}\")\n",
    "except UnidentifiedImageError as e:\n",
    "    print(f\"Error: The image could not be identified: {e}\")\n",
    "except Exception as e:\n",
    "    print(f\"An unexpected error occurred: {e}\")"
   ]
  },
  {
   "cell_type": "code",
   "execution_count": null,
   "metadata": {},
   "outputs": [
    {
     "name": "stdout",
     "output_type": "stream",
     "text": [
      "Image data loaded successfully!\n",
      "[Document(metadata={'source': '/tmp/temp_image.jpg'}, page_content='General working of OCR\\n\\nconvert to Image grayscale passed as Input Pre-process image data Detect lines, words and characters Text produced as Output setDataPath() Produce ranked Post process list of candidate -——)_—srecognized characters characters grammar rules')]\n"
     ]
    }
   ],
   "source": [
    "import requests\n",
    "from io import BytesIO\n",
    "from PIL import Image\n",
    "from PIL import UnidentifiedImageError\n",
    "\n",
    "\n",
    "# URL of the image\n",
    "image_url = \"https://media.geeksforgeeks.org/wp-content/uploads/20190530190230/General-working-of-OCR-3.jpg\"\n",
    "try:\n",
    "    # Download the image\n",
    "    response = requests.get(image_url)\n",
    "    response.raise_for_status()  # Check if the request was successful\n",
    "\n",
    "    # Open the image from the downloaded content\n",
    "    image = Image.open(BytesIO(response.content))\n",
    "\n",
    "    # Save the image temporarily\n",
    "    temp_image_path = \"/tmp/temp_image.jpg\"\n",
    "    image.save(temp_image_path)\n",
    "\n",
    "    # Load the image using UnstructuredImageLoader\n",
    "    loader = UnstructuredImageLoader(file_path=temp_image_path)\n",
    "    data = loader.load()\n",
    "\n",
    "    print(\"Image data loaded successfully!\")\n",
    "    print(data)\n",
    "\n",
    "except requests.exceptions.RequestException as e:\n",
    "    print(f\"Error downloading the image: {e}\")\n",
    "except UnidentifiedImageError as e:\n",
    "    print(f\"Error: The image could not be identified: {e}\")\n",
    "except Exception as e:\n",
    "    print(f\"An unexpected error occurred: {e}\")"
   ]
  },
  {
   "cell_type": "code",
   "execution_count": null,
   "metadata": {},
   "outputs": [
    {
     "name": "stdout",
     "output_type": "stream",
     "text": [
      "/var/folders/y5/3b88q7jx0ygbly546r1bj8tm0000gn/T/ecce4fe8-0457-49d7-a31a-4c946a3d6139.jpg1y4trg9n.jpg\n",
      "Image data loaded successfully!\n",
      "[Document(metadata={'source': '/var/folders/y5/3b88q7jx0ygbly546r1bj8tm0000gn/T/ecce4fe8-0457-49d7-a31a-4c946a3d6139.jpg1y4trg9n.jpg'}, page_content='General working of OCR\\n\\nconvert to Image grayscale passed as Input Pre-process image data Detect lines, words and characters Text produced as Output setDataPath() Produce ranked Post process list of candidate -——)_—srecognized characters characters grammar rules')]\n"
     ]
    }
   ],
   "source": [
    "import os\n",
    "import tempfile\n",
    "import uuid\n",
    "import requests\n",
    "from io import BytesIO\n",
    "from PIL import Image, UnidentifiedImageError\n",
    "from langchain_community.document_loaders.image import UnstructuredImageLoader\n",
    "\n",
    "class ImageHandler:\n",
    "    def __init__(self, file_loader, file_extension):\n",
    "        self.file_loader = file_loader\n",
    "        self.file_extension = file_extension\n",
    "\n",
    "    def load(self, url):\n",
    "        # Generate a unique filename with a UUID prefix\n",
    "        unique_filename = f\"{uuid.uuid4()}.{self.file_extension}\"\n",
    "\n",
    "        # Download the image file from the URL\n",
    "        response = requests.get(url)\n",
    "        response.raise_for_status()  # Ensure the request was successful\n",
    "\n",
    "        try:\n",
    "            # Open the image from the downloaded content\n",
    "            image = Image.open(BytesIO(response.content))\n",
    "\n",
    "            # Save the image temporarily\n",
    "            with tempfile.NamedTemporaryFile(delete=False, prefix=unique_filename, suffix=f\".{self.file_extension}\") as temp_file:\n",
    "                image.save(temp_file)\n",
    "                temp_image_path = temp_file.name\n",
    "\n",
    "            # Use the file_loader to load the documents\n",
    "            loader = self.file_loader(file_path=temp_image_path)\n",
    "            print(temp_image_path)\n",
    "            documents = loader.load()\n",
    "\n",
    "            # Remove the temporary file\n",
    "            os.remove(temp_image_path)\n",
    "\n",
    "            return documents\n",
    "\n",
    "        except UnidentifiedImageError as e:\n",
    "            print(f\"Error: The image could not be identified: {e}\")\n",
    "            return []\n",
    "\n",
    "# URL of the image\n",
    "image_url = \"https://media.geeksforgeeks.org/wp-content/uploads/20190530190230/General-working-of-OCR-3.jpg\"\n",
    "\n",
    "# Create a FileHandler instance for images\n",
    "image_handler = ImageHandler(UnstructuredImageLoader, 'jpg')\n",
    "\n",
    "try:\n",
    "    # Use FileHandler to load the image\n",
    "    data = image_handler.load(image_url)\n",
    "\n",
    "    print(\"Image data loaded successfully!\")\n",
    "    print(data)\n",
    "\n",
    "except requests.exceptions.RequestException as e:\n",
    "    print(f\"Error downloading the image: {e}\")\n",
    "except UnidentifiedImageError as e:\n",
    "    print(f\"Error: The image could not be identified: {e}\")\n",
    "except Exception as e:\n",
    "    print(f\"An unexpected error occurred: {e}\")\n"
   ]
  },
  {
   "cell_type": "code",
   "execution_count": null,
   "metadata": {},
   "outputs": [
    {
     "name": "stdout",
     "output_type": "stream",
     "text": [
      "Image data loaded successfully!\n",
      "General working of OCR\n",
      "\n",
      "convert to\n",
      "Image grayscale\n",
      "\n",
      "passed as\n",
      "Input\n",
      "\n",
      "Pre-process\n",
      "image data\n",
      "\n",
      "Detect lines,\n",
      "words and\n",
      "characters\n",
      "\n",
      "Text\n",
      "produced as\n",
      "Output\n",
      "\n",
      "setDataPath()\n",
      "\n",
      "Produce ranked Post process\n",
      "list of candidate -——)_—srecognized\n",
      "characters characters\n",
      "\n",
      "grammar rules\n",
      "\n",
      "\n"
     ]
    }
   ],
   "source": [
    "import os\n",
    "import tempfile\n",
    "import uuid\n",
    "import requests\n",
    "from io import BytesIO\n",
    "from PIL import Image, UnidentifiedImageError\n",
    "import pytesseract\n",
    "\n",
    "class ImageHandler:\n",
    "    def __init__(self, file_extension):\n",
    "        self.file_extension = file_extension\n",
    "\n",
    "    def load(self, url):\n",
    "        # Generate a unique filename with a UUID prefix\n",
    "        unique_filename = f\"{uuid.uuid4()}.{self.file_extension}\"\n",
    "\n",
    "        # Download the image file from the URL\n",
    "        response = requests.get(url)\n",
    "        response.raise_for_status()  # Ensure the request was successful\n",
    "\n",
    "        try:\n",
    "            # Open the image from the downloaded content\n",
    "            image = Image.open(BytesIO(response.content))\n",
    "\n",
    "            # Save the image temporarily\n",
    "            with tempfile.NamedTemporaryFile(delete=False, prefix=unique_filename, suffix=f\".{self.file_extension}\") as temp_file:\n",
    "                image.save(temp_file)\n",
    "                temp_image_path = temp_file.name\n",
    "\n",
    "            # Use pytesseract to extract text from the image\n",
    "            extracted_text = pytesseract.image_to_string(temp_image_path)\n",
    "\n",
    "            # Remove the temporary file\n",
    "            os.remove(temp_image_path)\n",
    "\n",
    "            return extracted_text\n",
    "\n",
    "        except UnidentifiedImageError as e:\n",
    "            print(f\"Error: The image could not be identified: {e}\")\n",
    "            return \"\"\n",
    "\n",
    "\n",
    "# URL of the image\n",
    "image_url = \"https://media.geeksforgeeks.org/wp-content/uploads/20190530190230/General-working-of-OCR-3.jpg\"\n",
    "\n",
    "# Create a FileHandler instance for images\n",
    "image_handler = ImageHandler('jpg')\n",
    "\n",
    "try:\n",
    "    # Use FileHandler to load the image\n",
    "    data = image_handler.load(image_url)\n",
    "\n",
    "    print(\"Image data loaded successfully!\")\n",
    "    print(data)\n",
    "\n",
    "except requests.exceptions.RequestException as e:\n",
    "    print(f\"Error downloading the image: {e}\")\n",
    "except UnidentifiedImageError as e:\n",
    "    print(f\"Error: The image could not be identified: {e}\")\n",
    "except Exception as e:\n",
    "    print(f\"An unexpected error occurred: {e}\")"
   ]
  },
  {
   "cell_type": "code",
   "execution_count": null,
   "metadata": {},
   "outputs": [
    {
     "name": "stderr",
     "output_type": "stream",
     "text": [
      "5914.00s - pydevd: Sending message related to process being replaced timed-out after 5 seconds\n"
     ]
    },
    {
     "name": "stdout",
     "output_type": "stream",
     "text": [
      "Requirement already satisfied: SpeechRecognition in /Users/abirsleem/Documents/Abir/NewJOB/RadicalAIInternship/kai-ai-backend/env/lib/python3.12/site-packages (3.10.4)\n",
      "Requirement already satisfied: requests>=2.26.0 in /Users/abirsleem/Documents/Abir/NewJOB/RadicalAIInternship/kai-ai-backend/env/lib/python3.12/site-packages (from SpeechRecognition) (2.32.3)\n",
      "Requirement already satisfied: typing-extensions in /Users/abirsleem/Documents/Abir/NewJOB/RadicalAIInternship/kai-ai-backend/env/lib/python3.12/site-packages (from SpeechRecognition) (4.12.2)\n",
      "Requirement already satisfied: charset-normalizer<4,>=2 in /Users/abirsleem/Documents/Abir/NewJOB/RadicalAIInternship/kai-ai-backend/env/lib/python3.12/site-packages (from requests>=2.26.0->SpeechRecognition) (3.3.2)\n",
      "Requirement already satisfied: idna<4,>=2.5 in /Users/abirsleem/Documents/Abir/NewJOB/RadicalAIInternship/kai-ai-backend/env/lib/python3.12/site-packages (from requests>=2.26.0->SpeechRecognition) (3.7)\n",
      "Requirement already satisfied: urllib3<3,>=1.21.1 in /Users/abirsleem/Documents/Abir/NewJOB/RadicalAIInternship/kai-ai-backend/env/lib/python3.12/site-packages (from requests>=2.26.0->SpeechRecognition) (2.2.2)\n",
      "Requirement already satisfied: certifi>=2017.4.17 in /Users/abirsleem/Documents/Abir/NewJOB/RadicalAIInternship/kai-ai-backend/env/lib/python3.12/site-packages (from requests>=2.26.0->SpeechRecognition) (2024.7.4)\n",
      "\n",
      "\u001b[1m[\u001b[0m\u001b[34;49mnotice\u001b[0m\u001b[1;39;49m]\u001b[0m\u001b[39;49m A new release of pip is available: \u001b[0m\u001b[31;49m24.0\u001b[0m\u001b[39;49m -> \u001b[0m\u001b[32;49m24.2\u001b[0m\n",
      "\u001b[1m[\u001b[0m\u001b[34;49mnotice\u001b[0m\u001b[1;39;49m]\u001b[0m\u001b[39;49m To update, run: \u001b[0m\u001b[32;49mpip install --upgrade pip\u001b[0m\n",
      "Note: you may need to restart the kernel to use updated packages.\n"
     ]
    },
    {
     "name": "stderr",
     "output_type": "stream",
     "text": [
      "5923.57s - pydevd: Sending message related to process being replaced timed-out after 5 seconds\n"
     ]
    },
    {
     "name": "stdout",
     "output_type": "stream",
     "text": [
      "Requirement already satisfied: pydub in /Users/abirsleem/Documents/Abir/NewJOB/RadicalAIInternship/kai-ai-backend/env/lib/python3.12/site-packages (0.25.1)\n",
      "\n",
      "\u001b[1m[\u001b[0m\u001b[34;49mnotice\u001b[0m\u001b[1;39;49m]\u001b[0m\u001b[39;49m A new release of pip is available: \u001b[0m\u001b[31;49m24.0\u001b[0m\u001b[39;49m -> \u001b[0m\u001b[32;49m24.2\u001b[0m\n",
      "\u001b[1m[\u001b[0m\u001b[34;49mnotice\u001b[0m\u001b[1;39;49m]\u001b[0m\u001b[39;49m To update, run: \u001b[0m\u001b[32;49mpip install --upgrade pip\u001b[0m\n",
      "Note: you may need to restart the kernel to use updated packages.\n"
     ]
    },
    {
     "name": "stderr",
     "output_type": "stream",
     "text": [
      "5933.11s - pydevd: Sending message related to process being replaced timed-out after 5 seconds\n"
     ]
    },
    {
     "name": "stdout",
     "output_type": "stream",
     "text": [
      "\u001b[33mWARNING: Retrying (Retry(total=4, connect=None, read=None, redirect=None, status=None)) after connection broken by 'ReadTimeoutError(\"HTTPSConnectionPool(host='pypi.org', port=443): Read timed out. (read timeout=15)\")': /simple/ffmpeg/\u001b[0m\u001b[33m\n",
      "\u001b[0m\u001b[33mWARNING: Retrying (Retry(total=3, connect=None, read=None, redirect=None, status=None)) after connection broken by 'ReadTimeoutError(\"HTTPSConnectionPool(host='pypi.org', port=443): Read timed out. (read timeout=15)\")': /simple/ffmpeg/\u001b[0m\u001b[33m\n",
      "\u001b[0m\u001b[33mWARNING: Retrying (Retry(total=2, connect=None, read=None, redirect=None, status=None)) after connection broken by 'ReadTimeoutError(\"HTTPSConnectionPool(host='pypi.org', port=443): Read timed out. (read timeout=15)\")': /simple/ffmpeg/\u001b[0m\u001b[33m\n",
      "\u001b[0m\u001b[33mWARNING: Retrying (Retry(total=1, connect=None, read=None, redirect=None, status=None)) after connection broken by 'ReadTimeoutError(\"HTTPSConnectionPool(host='pypi.org', port=443): Read timed out. (read timeout=15)\")': /simple/ffmpeg/\u001b[0m\u001b[33m\n",
      "\u001b[0m\u001b[33mWARNING: Retrying (Retry(total=0, connect=None, read=None, redirect=None, status=None)) after connection broken by 'ReadTimeoutError(\"HTTPSConnectionPool(host='pypi.org', port=443): Read timed out. (read timeout=15)\")': /simple/ffmpeg/\u001b[0m\u001b[33m\n",
      "\u001b[0m\u001b[31mERROR: Could not find a version that satisfies the requirement ffmpeg (from versions: none)\u001b[0m\u001b[31m\n",
      "\u001b[0m\u001b[31mERROR: No matching distribution found for ffmpeg\u001b[0m\u001b[31m\n",
      "\u001b[0m\n",
      "\u001b[1m[\u001b[0m\u001b[34;49mnotice\u001b[0m\u001b[1;39;49m]\u001b[0m\u001b[39;49m A new release of pip is available: \u001b[0m\u001b[31;49m24.0\u001b[0m\u001b[39;49m -> \u001b[0m\u001b[32;49m24.2\u001b[0m\n",
      "\u001b[1m[\u001b[0m\u001b[34;49mnotice\u001b[0m\u001b[1;39;49m]\u001b[0m\u001b[39;49m To update, run: \u001b[0m\u001b[32;49mpip install --upgrade pip\u001b[0m\n",
      "Note: you may need to restart the kernel to use updated packages.\n"
     ]
    }
   ],
   "source": [
    "%pip install SpeechRecognition\n",
    "%pip install pydub\n"
   ]
  },
  {
   "cell_type": "code",
   "execution_count": 32,
   "metadata": {},
   "outputs": [
    {
     "name": "stderr",
     "output_type": "stream",
     "text": [
      "6140.51s - pydevd: Sending message related to process being replaced timed-out after 5 seconds\n"
     ]
    },
    {
     "name": "stdout",
     "output_type": "stream",
     "text": [
      "\n",
      "Usage:   \n",
      "  /Users/abirsleem/Documents/Abir/NewJOB/RadicalAIInternship/kai-ai-backend/env/bin/python -m pip install [options] <requirement specifier> [package-index-options] ...\n",
      "  /Users/abirsleem/Documents/Abir/NewJOB/RadicalAIInternship/kai-ai-backend/env/bin/python -m pip install [options] -r <requirements file> [package-index-options] ...\n",
      "  /Users/abirsleem/Documents/Abir/NewJOB/RadicalAIInternship/kai-ai-backend/env/bin/python -m pip install [options] [-e] <vcs project url> ...\n",
      "  /Users/abirsleem/Documents/Abir/NewJOB/RadicalAIInternship/kai-ai-backend/env/bin/python -m pip install [options] [-e] <local project path> ...\n",
      "  /Users/abirsleem/Documents/Abir/NewJOB/RadicalAIInternship/kai-ai-backend/env/bin/python -m pip install [options] <archive url/path> ...\n",
      "\n",
      "no such option: -y\n",
      "Note: you may need to restart the kernel to use updated packages.\n"
     ]
    }
   ],
   "source": [
    "%pip install -y ffmpeg"
   ]
  },
  {
   "cell_type": "code",
   "execution_count": 27,
   "metadata": {},
   "outputs": [
    {
     "ename": "HTTPError",
     "evalue": "403 Client Error: Forbidden. Please comply with the User-Agent policy: https://meta.wikimedia.org/wiki/User-Agent_policy for url: https://upload.wikimedia.org/wikipedia/commons/f/f4/Larynx-HiFi-GAN_speech_sample.wav",
     "output_type": "error",
     "traceback": [
      "\u001b[0;31m---------------------------------------------------------------------------\u001b[0m",
      "\u001b[0;31mHTTPError\u001b[0m                                 Traceback (most recent call last)",
      "Cell \u001b[0;32mIn[27], line 10\u001b[0m\n\u001b[1;32m      8\u001b[0m \u001b[38;5;66;03m# Download the audio file\u001b[39;00m\n\u001b[1;32m      9\u001b[0m response \u001b[38;5;241m=\u001b[39m requests\u001b[38;5;241m.\u001b[39mget(audio_url)\n\u001b[0;32m---> 10\u001b[0m \u001b[43mresponse\u001b[49m\u001b[38;5;241;43m.\u001b[39;49m\u001b[43mraise_for_status\u001b[49m\u001b[43m(\u001b[49m\u001b[43m)\u001b[49m  \u001b[38;5;66;03m# Ensure the request was successful\u001b[39;00m\n\u001b[1;32m     12\u001b[0m \u001b[38;5;66;03m# Load the audio file into SpeechRecognition\u001b[39;00m\n\u001b[1;32m     13\u001b[0m audio_data \u001b[38;5;241m=\u001b[39m BytesIO(response\u001b[38;5;241m.\u001b[39mcontent)\n",
      "File \u001b[0;32m~/Documents/Abir/NewJOB/RadicalAIInternship/kai-ai-backend/env/lib/python3.12/site-packages/requests/models.py:1024\u001b[0m, in \u001b[0;36mResponse.raise_for_status\u001b[0;34m(self)\u001b[0m\n\u001b[1;32m   1019\u001b[0m     http_error_msg \u001b[38;5;241m=\u001b[39m (\n\u001b[1;32m   1020\u001b[0m         \u001b[38;5;124mf\u001b[39m\u001b[38;5;124m\"\u001b[39m\u001b[38;5;132;01m{\u001b[39;00m\u001b[38;5;28mself\u001b[39m\u001b[38;5;241m.\u001b[39mstatus_code\u001b[38;5;132;01m}\u001b[39;00m\u001b[38;5;124m Server Error: \u001b[39m\u001b[38;5;132;01m{\u001b[39;00mreason\u001b[38;5;132;01m}\u001b[39;00m\u001b[38;5;124m for url: \u001b[39m\u001b[38;5;132;01m{\u001b[39;00m\u001b[38;5;28mself\u001b[39m\u001b[38;5;241m.\u001b[39murl\u001b[38;5;132;01m}\u001b[39;00m\u001b[38;5;124m\"\u001b[39m\n\u001b[1;32m   1021\u001b[0m     )\n\u001b[1;32m   1023\u001b[0m \u001b[38;5;28;01mif\u001b[39;00m http_error_msg:\n\u001b[0;32m-> 1024\u001b[0m     \u001b[38;5;28;01mraise\u001b[39;00m HTTPError(http_error_msg, response\u001b[38;5;241m=\u001b[39m\u001b[38;5;28mself\u001b[39m)\n",
      "\u001b[0;31mHTTPError\u001b[0m: 403 Client Error: Forbidden. Please comply with the User-Agent policy: https://meta.wikimedia.org/wiki/User-Agent_policy for url: https://upload.wikimedia.org/wikipedia/commons/f/f4/Larynx-HiFi-GAN_speech_sample.wav"
     ]
    }
   ],
   "source": [
    "import speech_recognition as sr\n",
    "import requests\n",
    "from io import BytesIO\n",
    "\n",
    "# URL of the audio file\n",
    "audio_url = \"https://upload.wikimedia.org/wikipedia/commons/f/f4/Larynx-HiFi-GAN_speech_sample.wav\"\n",
    "\n",
    "# Download the audio file\n",
    "response = requests.get(audio_url)\n",
    "response.raise_for_status()  # Ensure the request was successful\n",
    "\n",
    "# Load the audio file into SpeechRecognition\n",
    "audio_data = BytesIO(response.content)\n",
    "recognizer = sr.Recognizer()\n",
    "\n",
    "try:\n",
    "    with sr.AudioFile(audio_data) as source:\n",
    "        audio = recognizer.record(source)  # Read the entire audio file\n",
    "        text = recognizer.recognize_google(audio)  # Use Google Web Speech API\n",
    "        print(\"Transcription successful!\")\n",
    "        print(text)\n",
    "except sr.UnknownValueError:\n",
    "    print(\"Google Speech Recognition could not understand the audio.\")\n",
    "except sr.RequestError as e:\n",
    "    print(f\"Could not request results from Google Speech Recognition service; {e}\")\n",
    "except Exception as e:\n",
    "    print(f\"An unexpected error occurred: {e}\")"
   ]
  },
  {
   "cell_type": "code",
   "execution_count": 38,
   "metadata": {},
   "outputs": [
    {
     "name": "stderr",
     "output_type": "stream",
     "text": [
      "/Users/abirsleem/Documents/Abir/NewJOB/RadicalAIInternship/kai-ai-backend/env/lib/python3.12/site-packages/pydub/utils.py:198: RuntimeWarning: Couldn't find ffprobe or avprobe - defaulting to ffprobe, but may not work\n",
      "  warn(\"Couldn't find ffprobe or avprobe - defaulting to ffprobe, but may not work\", RuntimeWarning)\n"
     ]
    },
    {
     "ename": "FileNotFoundError",
     "evalue": "[Errno 2] No such file or directory: 'ffprobe'",
     "output_type": "error",
     "traceback": [
      "\u001b[0;31m---------------------------------------------------------------------------\u001b[0m",
      "\u001b[0;31mFileNotFoundError\u001b[0m                         Traceback (most recent call last)",
      "Cell \u001b[0;32mIn[38], line 11\u001b[0m\n\u001b[1;32m      7\u001b[0m audio_file_path \u001b[38;5;241m=\u001b[39m \u001b[38;5;124m\"\u001b[39m\u001b[38;5;124m//Users/abirsleem/Documents/Abir/NewJOB/RadicalAIInternship/kai-ai-backend/app/features/quizzify/testfiles/A-law_audio_demo.flac\u001b[39m\u001b[38;5;124m\"\u001b[39m\n\u001b[1;32m      9\u001b[0m \u001b[38;5;66;03m# Convert audio to a format supported by SpeechRecognition (WAV)\u001b[39;00m\n\u001b[1;32m     10\u001b[0m \u001b[38;5;66;03m# pydub will automatically detect the format from the file extension\u001b[39;00m\n\u001b[0;32m---> 11\u001b[0m audio \u001b[38;5;241m=\u001b[39m \u001b[43mAudioSegment\u001b[49m\u001b[38;5;241;43m.\u001b[39;49m\u001b[43mfrom_file\u001b[49m\u001b[43m(\u001b[49m\u001b[43maudio_file_path\u001b[49m\u001b[43m)\u001b[49m\n\u001b[1;32m     12\u001b[0m audio \u001b[38;5;241m=\u001b[39m audio\u001b[38;5;241m.\u001b[39mset_frame_rate(\u001b[38;5;241m16000\u001b[39m)  \u001b[38;5;66;03m# Adjust to 16kHz for better recognition\u001b[39;00m\n\u001b[1;32m     13\u001b[0m wav_file \u001b[38;5;241m=\u001b[39m \u001b[38;5;124m\"\u001b[39m\u001b[38;5;124m/tmp/converted_audio.wav\u001b[39m\u001b[38;5;124m\"\u001b[39m\n",
      "File \u001b[0;32m~/Documents/Abir/NewJOB/RadicalAIInternship/kai-ai-backend/env/lib/python3.12/site-packages/pydub/audio_segment.py:728\u001b[0m, in \u001b[0;36mAudioSegment.from_file\u001b[0;34m(cls, file, format, codec, parameters, start_second, duration, **kwargs)\u001b[0m\n\u001b[1;32m    726\u001b[0m     info \u001b[38;5;241m=\u001b[39m \u001b[38;5;28;01mNone\u001b[39;00m\n\u001b[1;32m    727\u001b[0m \u001b[38;5;28;01melse\u001b[39;00m:\n\u001b[0;32m--> 728\u001b[0m     info \u001b[38;5;241m=\u001b[39m \u001b[43mmediainfo_json\u001b[49m\u001b[43m(\u001b[49m\u001b[43morig_file\u001b[49m\u001b[43m,\u001b[49m\u001b[43m \u001b[49m\u001b[43mread_ahead_limit\u001b[49m\u001b[38;5;241;43m=\u001b[39;49m\u001b[43mread_ahead_limit\u001b[49m\u001b[43m)\u001b[49m\n\u001b[1;32m    729\u001b[0m \u001b[38;5;28;01mif\u001b[39;00m info:\n\u001b[1;32m    730\u001b[0m     audio_streams \u001b[38;5;241m=\u001b[39m [x \u001b[38;5;28;01mfor\u001b[39;00m x \u001b[38;5;129;01min\u001b[39;00m info[\u001b[38;5;124m'\u001b[39m\u001b[38;5;124mstreams\u001b[39m\u001b[38;5;124m'\u001b[39m]\n\u001b[1;32m    731\u001b[0m                      \u001b[38;5;28;01mif\u001b[39;00m x[\u001b[38;5;124m'\u001b[39m\u001b[38;5;124mcodec_type\u001b[39m\u001b[38;5;124m'\u001b[39m] \u001b[38;5;241m==\u001b[39m \u001b[38;5;124m'\u001b[39m\u001b[38;5;124maudio\u001b[39m\u001b[38;5;124m'\u001b[39m]\n",
      "File \u001b[0;32m~/Documents/Abir/NewJOB/RadicalAIInternship/kai-ai-backend/env/lib/python3.12/site-packages/pydub/utils.py:274\u001b[0m, in \u001b[0;36mmediainfo_json\u001b[0;34m(filepath, read_ahead_limit)\u001b[0m\n\u001b[1;32m    271\u001b[0m         file\u001b[38;5;241m.\u001b[39mclose()\n\u001b[1;32m    273\u001b[0m command \u001b[38;5;241m=\u001b[39m [prober, \u001b[38;5;124m'\u001b[39m\u001b[38;5;124m-of\u001b[39m\u001b[38;5;124m'\u001b[39m, \u001b[38;5;124m'\u001b[39m\u001b[38;5;124mjson\u001b[39m\u001b[38;5;124m'\u001b[39m] \u001b[38;5;241m+\u001b[39m command_args\n\u001b[0;32m--> 274\u001b[0m res \u001b[38;5;241m=\u001b[39m \u001b[43mPopen\u001b[49m\u001b[43m(\u001b[49m\u001b[43mcommand\u001b[49m\u001b[43m,\u001b[49m\u001b[43m \u001b[49m\u001b[43mstdin\u001b[49m\u001b[38;5;241;43m=\u001b[39;49m\u001b[43mstdin_parameter\u001b[49m\u001b[43m,\u001b[49m\u001b[43m \u001b[49m\u001b[43mstdout\u001b[49m\u001b[38;5;241;43m=\u001b[39;49m\u001b[43mPIPE\u001b[49m\u001b[43m,\u001b[49m\u001b[43m \u001b[49m\u001b[43mstderr\u001b[49m\u001b[38;5;241;43m=\u001b[39;49m\u001b[43mPIPE\u001b[49m\u001b[43m)\u001b[49m\n\u001b[1;32m    275\u001b[0m output, stderr \u001b[38;5;241m=\u001b[39m res\u001b[38;5;241m.\u001b[39mcommunicate(\u001b[38;5;28minput\u001b[39m\u001b[38;5;241m=\u001b[39mstdin_data)\n\u001b[1;32m    276\u001b[0m output \u001b[38;5;241m=\u001b[39m output\u001b[38;5;241m.\u001b[39mdecode(\u001b[38;5;124m\"\u001b[39m\u001b[38;5;124mutf-8\u001b[39m\u001b[38;5;124m\"\u001b[39m, \u001b[38;5;124m'\u001b[39m\u001b[38;5;124mignore\u001b[39m\u001b[38;5;124m'\u001b[39m)\n",
      "File \u001b[0;32m/Library/Frameworks/Python.framework/Versions/3.12/lib/python3.12/subprocess.py:1026\u001b[0m, in \u001b[0;36mPopen.__init__\u001b[0;34m(self, args, bufsize, executable, stdin, stdout, stderr, preexec_fn, close_fds, shell, cwd, env, universal_newlines, startupinfo, creationflags, restore_signals, start_new_session, pass_fds, user, group, extra_groups, encoding, errors, text, umask, pipesize, process_group)\u001b[0m\n\u001b[1;32m   1022\u001b[0m         \u001b[38;5;28;01mif\u001b[39;00m \u001b[38;5;28mself\u001b[39m\u001b[38;5;241m.\u001b[39mtext_mode:\n\u001b[1;32m   1023\u001b[0m             \u001b[38;5;28mself\u001b[39m\u001b[38;5;241m.\u001b[39mstderr \u001b[38;5;241m=\u001b[39m io\u001b[38;5;241m.\u001b[39mTextIOWrapper(\u001b[38;5;28mself\u001b[39m\u001b[38;5;241m.\u001b[39mstderr,\n\u001b[1;32m   1024\u001b[0m                     encoding\u001b[38;5;241m=\u001b[39mencoding, errors\u001b[38;5;241m=\u001b[39merrors)\n\u001b[0;32m-> 1026\u001b[0m     \u001b[38;5;28;43mself\u001b[39;49m\u001b[38;5;241;43m.\u001b[39;49m\u001b[43m_execute_child\u001b[49m\u001b[43m(\u001b[49m\u001b[43margs\u001b[49m\u001b[43m,\u001b[49m\u001b[43m \u001b[49m\u001b[43mexecutable\u001b[49m\u001b[43m,\u001b[49m\u001b[43m \u001b[49m\u001b[43mpreexec_fn\u001b[49m\u001b[43m,\u001b[49m\u001b[43m \u001b[49m\u001b[43mclose_fds\u001b[49m\u001b[43m,\u001b[49m\n\u001b[1;32m   1027\u001b[0m \u001b[43m                        \u001b[49m\u001b[43mpass_fds\u001b[49m\u001b[43m,\u001b[49m\u001b[43m \u001b[49m\u001b[43mcwd\u001b[49m\u001b[43m,\u001b[49m\u001b[43m \u001b[49m\u001b[43menv\u001b[49m\u001b[43m,\u001b[49m\n\u001b[1;32m   1028\u001b[0m \u001b[43m                        \u001b[49m\u001b[43mstartupinfo\u001b[49m\u001b[43m,\u001b[49m\u001b[43m \u001b[49m\u001b[43mcreationflags\u001b[49m\u001b[43m,\u001b[49m\u001b[43m \u001b[49m\u001b[43mshell\u001b[49m\u001b[43m,\u001b[49m\n\u001b[1;32m   1029\u001b[0m \u001b[43m                        \u001b[49m\u001b[43mp2cread\u001b[49m\u001b[43m,\u001b[49m\u001b[43m \u001b[49m\u001b[43mp2cwrite\u001b[49m\u001b[43m,\u001b[49m\n\u001b[1;32m   1030\u001b[0m \u001b[43m                        \u001b[49m\u001b[43mc2pread\u001b[49m\u001b[43m,\u001b[49m\u001b[43m \u001b[49m\u001b[43mc2pwrite\u001b[49m\u001b[43m,\u001b[49m\n\u001b[1;32m   1031\u001b[0m \u001b[43m                        \u001b[49m\u001b[43merrread\u001b[49m\u001b[43m,\u001b[49m\u001b[43m \u001b[49m\u001b[43merrwrite\u001b[49m\u001b[43m,\u001b[49m\n\u001b[1;32m   1032\u001b[0m \u001b[43m                        \u001b[49m\u001b[43mrestore_signals\u001b[49m\u001b[43m,\u001b[49m\n\u001b[1;32m   1033\u001b[0m \u001b[43m                        \u001b[49m\u001b[43mgid\u001b[49m\u001b[43m,\u001b[49m\u001b[43m \u001b[49m\u001b[43mgids\u001b[49m\u001b[43m,\u001b[49m\u001b[43m \u001b[49m\u001b[43muid\u001b[49m\u001b[43m,\u001b[49m\u001b[43m \u001b[49m\u001b[43mumask\u001b[49m\u001b[43m,\u001b[49m\n\u001b[1;32m   1034\u001b[0m \u001b[43m                        \u001b[49m\u001b[43mstart_new_session\u001b[49m\u001b[43m,\u001b[49m\u001b[43m \u001b[49m\u001b[43mprocess_group\u001b[49m\u001b[43m)\u001b[49m\n\u001b[1;32m   1035\u001b[0m \u001b[38;5;28;01mexcept\u001b[39;00m:\n\u001b[1;32m   1036\u001b[0m     \u001b[38;5;66;03m# Cleanup if the child failed starting.\u001b[39;00m\n\u001b[1;32m   1037\u001b[0m     \u001b[38;5;28;01mfor\u001b[39;00m f \u001b[38;5;129;01min\u001b[39;00m \u001b[38;5;28mfilter\u001b[39m(\u001b[38;5;28;01mNone\u001b[39;00m, (\u001b[38;5;28mself\u001b[39m\u001b[38;5;241m.\u001b[39mstdin, \u001b[38;5;28mself\u001b[39m\u001b[38;5;241m.\u001b[39mstdout, \u001b[38;5;28mself\u001b[39m\u001b[38;5;241m.\u001b[39mstderr)):\n",
      "File \u001b[0;32m/Library/Frameworks/Python.framework/Versions/3.12/lib/python3.12/subprocess.py:1955\u001b[0m, in \u001b[0;36mPopen._execute_child\u001b[0;34m(self, args, executable, preexec_fn, close_fds, pass_fds, cwd, env, startupinfo, creationflags, shell, p2cread, p2cwrite, c2pread, c2pwrite, errread, errwrite, restore_signals, gid, gids, uid, umask, start_new_session, process_group)\u001b[0m\n\u001b[1;32m   1953\u001b[0m     err_msg \u001b[38;5;241m=\u001b[39m os\u001b[38;5;241m.\u001b[39mstrerror(errno_num)\n\u001b[1;32m   1954\u001b[0m \u001b[38;5;28;01mif\u001b[39;00m err_filename \u001b[38;5;129;01mis\u001b[39;00m \u001b[38;5;129;01mnot\u001b[39;00m \u001b[38;5;28;01mNone\u001b[39;00m:\n\u001b[0;32m-> 1955\u001b[0m     \u001b[38;5;28;01mraise\u001b[39;00m child_exception_type(errno_num, err_msg, err_filename)\n\u001b[1;32m   1956\u001b[0m \u001b[38;5;28;01melse\u001b[39;00m:\n\u001b[1;32m   1957\u001b[0m     \u001b[38;5;28;01mraise\u001b[39;00m child_exception_type(errno_num, err_msg)\n",
      "\u001b[0;31mFileNotFoundError\u001b[0m: [Errno 2] No such file or directory: 'ffprobe'"
     ]
    }
   ],
   "source": [
    "\n",
    "import speech_recognition as sr\n",
    "from pydub import AudioSegment\n",
    "from pydub.utils import make_chunks\n",
    "import os\n",
    "\n",
    "# Specify the path to the local audio file\n",
    "audio_file_path = \"//Users/abirsleem/Documents/Abir/NewJOB/RadicalAIInternship/kai-ai-backend/app/features/quizzify/testfiles/A-law_audio_demo.flac\"\n",
    "\n",
    "# Convert audio to a format supported by SpeechRecognition (WAV)\n",
    "# pydub will automatically detect the format from the file extension\n",
    "audio = AudioSegment.from_file(audio_file_path)\n",
    "audio = audio.set_frame_rate(16000)  # Adjust to 16kHz for better recognition\n",
    "wav_file = \"/tmp/converted_audio.wav\"\n",
    "audio.export(wav_file, format=\"wav\")\n",
    "\n",
    "# Load the converted audio file into SpeechRecognition\n",
    "recognizer = sr.Recognizer()\n",
    "\n",
    "try:\n",
    "    with sr.AudioFile(wav_file) as source:\n",
    "        audio_data = recognizer.record(source)  # Read the entire audio file\n",
    "        text = recognizer.recognize_google(audio_data)  # Use Google Web Speech API\n",
    "        print(\"Transcription successful!\")\n",
    "        print(text)\n",
    "except sr.UnknownValueError:\n",
    "    print(\"Google Speech Recognition could not understand the audio.\")\n",
    "except sr.RequestError as e:\n",
    "    print(f\"Could not request results from Google Speech Recognition service; {e}\")\n",
    "except Exception as e:\n",
    "    print(f\"An unexpected error occurred: {e}\")\n",
    "\n",
    "# Clean up by removing the temporary WAV file\n",
    "os.remove(wav_file)\n"
   ]
  }
 ],
 "metadata": {
  "kernelspec": {
   "display_name": "env",
   "language": "python",
   "name": "python3"
  },
  "language_info": {
   "codemirror_mode": {
    "name": "ipython",
    "version": 3
   },
   "file_extension": ".py",
   "mimetype": "text/x-python",
   "name": "python",
   "nbconvert_exporter": "python",
   "pygments_lexer": "ipython3",
   "version": "3.12.4"
  }
 },
 "nbformat": 4,
 "nbformat_minor": 2
}
